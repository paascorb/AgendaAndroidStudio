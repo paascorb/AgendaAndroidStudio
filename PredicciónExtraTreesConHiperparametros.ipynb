{
  "nbformat": 4,
  "nbformat_minor": 0,
  "metadata": {
    "colab": {
      "name": "Untitled14.ipynb",
      "provenance": [],
      "toc_visible": true,
      "authorship_tag": "ABX9TyPCcCCSMLhFUSMgbdBVa0y7",
      "include_colab_link": true
    },
    "kernelspec": {
      "name": "python3",
      "display_name": "Python 3"
    },
    "language_info": {
      "name": "python"
    }
  },
  "cells": [
    {
      "cell_type": "markdown",
      "metadata": {
        "id": "view-in-github",
        "colab_type": "text"
      },
      "source": [
        "<a href=\"https://colab.research.google.com/github/paascorb/AgendaAndroidStudio/blob/master/Predicci%C3%B3nExtraTreesConHiperparametros.ipynb\" target=\"_parent\"><img src=\"https://colab.research.google.com/assets/colab-badge.svg\" alt=\"Open In Colab\"/></a>"
      ]
    },
    {
      "cell_type": "markdown",
      "metadata": {
        "id": "FiB00piadHBN"
      },
      "source": [
        "#Generación de predicciones con ExtraTrees con Hiperparametros ajustados"
      ]
    },
    {
      "cell_type": "markdown",
      "metadata": {
        "id": "U7rybUM0XUwF"
      },
      "source": [
        "Este notebook es muy similar a su homologo con el modelo sin ajustar hiperparametros, pero en este utilizamos ya el modelo con los hiperparametrso fijados, como hemos fijado los hiperparametros está representado en otro notebook llamado 'AjustandoHiperparametrosExtraTreeRandomSearch.ipynb'"
      ]
    },
    {
      "cell_type": "markdown",
      "metadata": {
        "id": "eVV-UfihdOR3"
      },
      "source": [
        "Cargamos el dataset de entrenamiento"
      ]
    },
    {
      "cell_type": "code",
      "metadata": {
        "id": "4wZBfskFaQHY"
      },
      "source": [
        "import pandas as pd\n",
        "import numpy as np\n",
        "from sklearn.ensemble import ExtraTreesClassifier\n",
        "df = pd.read_csv(\"train.csv\")\n",
        "X =  df.values[:,:-1]\n",
        "Y =  df.values[:,-1]"
      ],
      "execution_count": 4,
      "outputs": []
    },
    {
      "cell_type": "markdown",
      "metadata": {
        "id": "es0OeE-DdR6A"
      },
      "source": [
        "Creamos el modelo con los hiperparametros fijados y lo entrenamos"
      ]
    },
    {
      "cell_type": "code",
      "metadata": {
        "colab": {
          "base_uri": "https://localhost:8080/"
        },
        "id": "eaGwIUq-aVWa",
        "outputId": "f9cc4bd3-034c-43ae-b475-cf362048e0d7"
      },
      "source": [
        "modelExtraTree = ExtraTreesClassifier(bootstrap=False, max_depth=60, max_features='sqrt', min_samples_leaf=1, min_samples_split=5, n_estimators=800)\n",
        "modelExtraTree.fit(X,Y)"
      ],
      "execution_count": 5,
      "outputs": [
        {
          "output_type": "execute_result",
          "data": {
            "text/plain": [
              "ExtraTreesClassifier(bootstrap=False, ccp_alpha=0.0, class_weight=None,\n",
              "                     criterion='gini', max_depth=60, max_features='sqrt',\n",
              "                     max_leaf_nodes=None, max_samples=None,\n",
              "                     min_impurity_decrease=0.0, min_impurity_split=None,\n",
              "                     min_samples_leaf=1, min_samples_split=5,\n",
              "                     min_weight_fraction_leaf=0.0, n_estimators=800,\n",
              "                     n_jobs=None, oob_score=False, random_state=None, verbose=0,\n",
              "                     warm_start=False)"
            ]
          },
          "metadata": {
            "tags": []
          },
          "execution_count": 5
        }
      ]
    },
    {
      "cell_type": "markdown",
      "metadata": {
        "id": "aqc-xK_5dUiu"
      },
      "source": [
        "Cargamos el dataset del test."
      ]
    },
    {
      "cell_type": "code",
      "metadata": {
        "id": "b0MIMRvxamsF"
      },
      "source": [
        "testdf = pd.read_csv(\"test.csv\")\n",
        "testdata = testdf.values"
      ],
      "execution_count": 6,
      "outputs": []
    },
    {
      "cell_type": "markdown",
      "metadata": {
        "id": "7ZxEiWt1dXZO"
      },
      "source": [
        "Y realizamos la predicción"
      ]
    },
    {
      "cell_type": "code",
      "metadata": {
        "id": "T7rDVlmUasNn"
      },
      "source": [
        "predicciones = modelExtraTree.predict(testdata)"
      ],
      "execution_count": 7,
      "outputs": []
    },
    {
      "cell_type": "markdown",
      "metadata": {
        "id": "YkDcvK0udZYF"
      },
      "source": [
        "Creamos la tabla que contendra el Id y las predicciones"
      ]
    },
    {
      "cell_type": "code",
      "metadata": {
        "id": "-mzDj2jnasr0"
      },
      "source": [
        "soldf = pd.DataFrame([(i+1,int(pred)) for i, pred in enumerate(predicciones)])"
      ],
      "execution_count": 8,
      "outputs": []
    },
    {
      "cell_type": "markdown",
      "metadata": {
        "id": "Fmnl8DWIdekj"
      },
      "source": [
        "Añadimos las columnas"
      ]
    },
    {
      "cell_type": "code",
      "metadata": {
        "id": "P1bxTMxSasmc"
      },
      "source": [
        "soldf.columns = ['Id','Prediction']"
      ],
      "execution_count": 9,
      "outputs": []
    },
    {
      "cell_type": "markdown",
      "metadata": {
        "id": "FDIjlkM5df1a"
      },
      "source": [
        "Visualizamos las 19 primeras entradas para comprobar que todo está correcto."
      ]
    },
    {
      "cell_type": "code",
      "metadata": {
        "colab": {
          "base_uri": "https://localhost:8080/",
          "height": 638
        },
        "id": "s03qAiqhavNE",
        "outputId": "88a14b99-8ba8-49da-9412-2e37137757f5"
      },
      "source": [
        "soldf.head(19)"
      ],
      "execution_count": 10,
      "outputs": [
        {
          "output_type": "execute_result",
          "data": {
            "text/html": [
              "<div>\n",
              "<style scoped>\n",
              "    .dataframe tbody tr th:only-of-type {\n",
              "        vertical-align: middle;\n",
              "    }\n",
              "\n",
              "    .dataframe tbody tr th {\n",
              "        vertical-align: top;\n",
              "    }\n",
              "\n",
              "    .dataframe thead th {\n",
              "        text-align: right;\n",
              "    }\n",
              "</style>\n",
              "<table border=\"1\" class=\"dataframe\">\n",
              "  <thead>\n",
              "    <tr style=\"text-align: right;\">\n",
              "      <th></th>\n",
              "      <th>Id</th>\n",
              "      <th>Prediction</th>\n",
              "    </tr>\n",
              "  </thead>\n",
              "  <tbody>\n",
              "    <tr>\n",
              "      <th>0</th>\n",
              "      <td>1</td>\n",
              "      <td>4</td>\n",
              "    </tr>\n",
              "    <tr>\n",
              "      <th>1</th>\n",
              "      <td>2</td>\n",
              "      <td>2</td>\n",
              "    </tr>\n",
              "    <tr>\n",
              "      <th>2</th>\n",
              "      <td>3</td>\n",
              "      <td>3</td>\n",
              "    </tr>\n",
              "    <tr>\n",
              "      <th>3</th>\n",
              "      <td>4</td>\n",
              "      <td>2</td>\n",
              "    </tr>\n",
              "    <tr>\n",
              "      <th>4</th>\n",
              "      <td>5</td>\n",
              "      <td>0</td>\n",
              "    </tr>\n",
              "    <tr>\n",
              "      <th>5</th>\n",
              "      <td>6</td>\n",
              "      <td>4</td>\n",
              "    </tr>\n",
              "    <tr>\n",
              "      <th>6</th>\n",
              "      <td>7</td>\n",
              "      <td>3</td>\n",
              "    </tr>\n",
              "    <tr>\n",
              "      <th>7</th>\n",
              "      <td>8</td>\n",
              "      <td>3</td>\n",
              "    </tr>\n",
              "    <tr>\n",
              "      <th>8</th>\n",
              "      <td>9</td>\n",
              "      <td>4</td>\n",
              "    </tr>\n",
              "    <tr>\n",
              "      <th>9</th>\n",
              "      <td>10</td>\n",
              "      <td>5</td>\n",
              "    </tr>\n",
              "    <tr>\n",
              "      <th>10</th>\n",
              "      <td>11</td>\n",
              "      <td>0</td>\n",
              "    </tr>\n",
              "    <tr>\n",
              "      <th>11</th>\n",
              "      <td>12</td>\n",
              "      <td>0</td>\n",
              "    </tr>\n",
              "    <tr>\n",
              "      <th>12</th>\n",
              "      <td>13</td>\n",
              "      <td>5</td>\n",
              "    </tr>\n",
              "    <tr>\n",
              "      <th>13</th>\n",
              "      <td>14</td>\n",
              "      <td>1</td>\n",
              "    </tr>\n",
              "    <tr>\n",
              "      <th>14</th>\n",
              "      <td>15</td>\n",
              "      <td>4</td>\n",
              "    </tr>\n",
              "    <tr>\n",
              "      <th>15</th>\n",
              "      <td>16</td>\n",
              "      <td>3</td>\n",
              "    </tr>\n",
              "    <tr>\n",
              "      <th>16</th>\n",
              "      <td>17</td>\n",
              "      <td>2</td>\n",
              "    </tr>\n",
              "    <tr>\n",
              "      <th>17</th>\n",
              "      <td>18</td>\n",
              "      <td>3</td>\n",
              "    </tr>\n",
              "    <tr>\n",
              "      <th>18</th>\n",
              "      <td>19</td>\n",
              "      <td>0</td>\n",
              "    </tr>\n",
              "  </tbody>\n",
              "</table>\n",
              "</div>"
            ],
            "text/plain": [
              "    Id  Prediction\n",
              "0    1           4\n",
              "1    2           2\n",
              "2    3           3\n",
              "3    4           2\n",
              "4    5           0\n",
              "5    6           4\n",
              "6    7           3\n",
              "7    8           3\n",
              "8    9           4\n",
              "9   10           5\n",
              "10  11           0\n",
              "11  12           0\n",
              "12  13           5\n",
              "13  14           1\n",
              "14  15           4\n",
              "15  16           3\n",
              "16  17           2\n",
              "17  18           3\n",
              "18  19           0"
            ]
          },
          "metadata": {
            "tags": []
          },
          "execution_count": 10
        }
      ]
    },
    {
      "cell_type": "markdown",
      "metadata": {
        "id": "g2_6C-YzdkOZ"
      },
      "source": [
        "Y generamos el entregable para el Kaggle"
      ]
    },
    {
      "cell_type": "code",
      "metadata": {
        "id": "cUILhtNha6ib"
      },
      "source": [
        "soldf.to_csv(\"submission.csv\",sep=',',index=False)"
      ],
      "execution_count": 12,
      "outputs": []
    }
  ]
}